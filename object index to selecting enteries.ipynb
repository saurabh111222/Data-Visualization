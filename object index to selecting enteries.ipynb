{
 "cells": [
  {
   "cell_type": "code",
   "execution_count": 14,
   "metadata": {},
   "outputs": [],
   "source": [
    "import numpy as np\n",
    "import pandas as pd\n",
    "from pandas import Series,DataFrame"
   ]
  },
  {
   "cell_type": "code",
   "execution_count": 15,
   "metadata": {},
   "outputs": [
    {
     "data": {
      "text/plain": [
       "p    1\n",
       "q    2\n",
       "r    3\n",
       "s    4\n",
       "t    5\n",
       "dtype: int64"
      ]
     },
     "execution_count": 15,
     "metadata": {},
     "output_type": "execute_result"
    }
   ],
   "source": [
    "new_ser=Series([1,2,3,4,5], index=['p','q','r','s','t'])\n",
    "new_ser"
   ]
  },
  {
   "cell_type": "code",
   "execution_count": 16,
   "metadata": {},
   "outputs": [
    {
     "data": {
      "text/plain": [
       "Index([u'p', u'q', u'r', u's', u't'], dtype='object')"
      ]
     },
     "execution_count": 16,
     "metadata": {},
     "output_type": "execute_result"
    }
   ],
   "source": [
    "new_ser_index=new_ser.index\n",
    "new_ser_index"
   ]
  },
  {
   "cell_type": "code",
   "execution_count": 17,
   "metadata": {},
   "outputs": [
    {
     "data": {
      "text/plain": [
       "'r'"
      ]
     },
     "execution_count": 17,
     "metadata": {},
     "output_type": "execute_result"
    }
   ],
   "source": [
    "new_ser_index[2]"
   ]
  },
  {
   "cell_type": "markdown",
   "metadata": {},
   "source": [
    "### indexes are immutable you can't change them directly"
   ]
  },
  {
   "cell_type": "markdown",
   "metadata": {},
   "source": [
    "new_ser_index[2]='e'"
   ]
  },
  {
   "cell_type": "markdown",
   "metadata": {},
   "source": [
    "# REINDEXING"
   ]
  },
  {
   "cell_type": "code",
   "execution_count": 18,
   "metadata": {},
   "outputs": [
    {
     "data": {
      "text/plain": [
       "p    1\n",
       "q    2\n",
       "r    3\n",
       "s    4\n",
       "t    5\n",
       "dtype: int64"
      ]
     },
     "execution_count": 18,
     "metadata": {},
     "output_type": "execute_result"
    }
   ],
   "source": [
    "new_ser"
   ]
  },
  {
   "cell_type": "code",
   "execution_count": 19,
   "metadata": {},
   "outputs": [],
   "source": [
    "# reindex adds new indexes with fill_values\n",
    "ri_ser=new_ser.reindex(['p','q','r','a','b','c'],fill_value=0)"
   ]
  },
  {
   "cell_type": "code",
   "execution_count": 20,
   "metadata": {},
   "outputs": [
    {
     "data": {
      "text/plain": [
       "p    1\n",
       "q    2\n",
       "r    3\n",
       "a    0\n",
       "b    0\n",
       "c    0\n",
       "dtype: int64"
      ]
     },
     "execution_count": 20,
     "metadata": {},
     "output_type": "execute_result"
    }
   ],
   "source": [
    "ri_ser"
   ]
  },
  {
   "cell_type": "code",
   "execution_count": 21,
   "metadata": {},
   "outputs": [
    {
     "data": {
      "text/plain": [
       "p    1.0\n",
       "q    2.0\n",
       "r    3.0\n",
       "a    NaN\n",
       "b    NaN\n",
       "c    NaN\n",
       "dtype: float64"
      ]
     },
     "execution_count": 21,
     "metadata": {},
     "output_type": "execute_result"
    }
   ],
   "source": [
    "ri_ser1=new_ser.reindex(['p','q','r','a','b','c'],method='ffill')\n",
    "ri_ser1"
   ]
  },
  {
   "cell_type": "markdown",
   "metadata": {},
   "source": [
    "### reindexing with forward filling method in which all the newly added indexes have same values untill a existing index is come."
   ]
  },
  {
   "cell_type": "code",
   "execution_count": 22,
   "metadata": {},
   "outputs": [
    {
     "data": {
      "text/plain": [
       "0     a\n",
       "4     b\n",
       "10    c\n",
       "dtype: object"
      ]
     },
     "execution_count": 22,
     "metadata": {},
     "output_type": "execute_result"
    }
   ],
   "source": [
    "ser=Series(['a','b','c'],index=[0,4,10])\n",
    "ser"
   ]
  },
  {
   "cell_type": "code",
   "execution_count": 23,
   "metadata": {},
   "outputs": [
    {
     "data": {
      "text/plain": [
       "[0, 1, 2, 3, 4, 5, 6, 7, 8, 9, 10, 11, 12, 13, 14]"
      ]
     },
     "execution_count": 23,
     "metadata": {},
     "output_type": "execute_result"
    }
   ],
   "source": [
    "ranger=range(15)\n",
    "ranger"
   ]
  },
  {
   "cell_type": "code",
   "execution_count": 24,
   "metadata": {},
   "outputs": [
    {
     "data": {
      "text/plain": [
       "0     a\n",
       "1     a\n",
       "2     a\n",
       "3     a\n",
       "4     b\n",
       "5     b\n",
       "6     b\n",
       "7     b\n",
       "8     b\n",
       "9     b\n",
       "10    c\n",
       "11    c\n",
       "12    c\n",
       "13    c\n",
       "14    c\n",
       "dtype: object"
      ]
     },
     "execution_count": 24,
     "metadata": {},
     "output_type": "execute_result"
    }
   ],
   "source": [
    "r_ser=ser.reindex(ranger,method='ffill')\n",
    "r_ser"
   ]
  },
  {
   "cell_type": "markdown",
   "metadata": {},
   "source": [
    "## reindexing rows and columns"
   ]
  },
  {
   "cell_type": "code",
   "execution_count": 25,
   "metadata": {},
   "outputs": [
    {
     "data": {
      "text/html": [
       "<div>\n",
       "<style scoped>\n",
       "    .dataframe tbody tr th:only-of-type {\n",
       "        vertical-align: middle;\n",
       "    }\n",
       "\n",
       "    .dataframe tbody tr th {\n",
       "        vertical-align: top;\n",
       "    }\n",
       "\n",
       "    .dataframe thead th {\n",
       "        text-align: right;\n",
       "    }\n",
       "</style>\n",
       "<table border=\"1\" class=\"dataframe\">\n",
       "  <thead>\n",
       "    <tr style=\"text-align: right;\">\n",
       "      <th></th>\n",
       "      <th>c1</th>\n",
       "      <th>c2</th>\n",
       "      <th>c3</th>\n",
       "      <th>c4</th>\n",
       "      <th>c5</th>\n",
       "      <th>c6</th>\n",
       "    </tr>\n",
       "    <tr>\n",
       "      <th>indexes</th>\n",
       "      <th></th>\n",
       "      <th></th>\n",
       "      <th></th>\n",
       "      <th></th>\n",
       "      <th></th>\n",
       "      <th></th>\n",
       "    </tr>\n",
       "  </thead>\n",
       "  <tbody>\n",
       "    <tr>\n",
       "      <th>a</th>\n",
       "      <td>-0.387310</td>\n",
       "      <td>-0.781589</td>\n",
       "      <td>0.942747</td>\n",
       "      <td>1.424576</td>\n",
       "      <td>-0.331886</td>\n",
       "      <td>-0.101165</td>\n",
       "    </tr>\n",
       "    <tr>\n",
       "      <th>b</th>\n",
       "      <td>-0.751129</td>\n",
       "      <td>-1.177080</td>\n",
       "      <td>-0.173739</td>\n",
       "      <td>-0.144970</td>\n",
       "      <td>0.968525</td>\n",
       "      <td>1.597383</td>\n",
       "    </tr>\n",
       "    <tr>\n",
       "      <th>c</th>\n",
       "      <td>0.144235</td>\n",
       "      <td>-0.957362</td>\n",
       "      <td>0.077069</td>\n",
       "      <td>0.359272</td>\n",
       "      <td>-1.513577</td>\n",
       "      <td>1.316740</td>\n",
       "    </tr>\n",
       "    <tr>\n",
       "      <th>d</th>\n",
       "      <td>-1.894112</td>\n",
       "      <td>-0.154833</td>\n",
       "      <td>-0.281132</td>\n",
       "      <td>-1.144495</td>\n",
       "      <td>-0.212566</td>\n",
       "      <td>0.402526</td>\n",
       "    </tr>\n",
       "    <tr>\n",
       "      <th>e</th>\n",
       "      <td>-0.193388</td>\n",
       "      <td>-0.360631</td>\n",
       "      <td>-0.397592</td>\n",
       "      <td>-0.971724</td>\n",
       "      <td>-0.050057</td>\n",
       "      <td>-0.317539</td>\n",
       "    </tr>\n",
       "    <tr>\n",
       "      <th>f</th>\n",
       "      <td>-0.188679</td>\n",
       "      <td>-2.008381</td>\n",
       "      <td>0.831187</td>\n",
       "      <td>1.211726</td>\n",
       "      <td>-0.775149</td>\n",
       "      <td>-0.742906</td>\n",
       "    </tr>\n",
       "  </tbody>\n",
       "</table>\n",
       "</div>"
      ],
      "text/plain": [
       "               c1        c2        c3        c4        c5        c6\n",
       "indexes                                                            \n",
       "a       -0.387310 -0.781589  0.942747  1.424576 -0.331886 -0.101165\n",
       "b       -0.751129 -1.177080 -0.173739 -0.144970  0.968525  1.597383\n",
       "c        0.144235 -0.957362  0.077069  0.359272 -1.513577  1.316740\n",
       "d       -1.894112 -0.154833 -0.281132 -1.144495 -0.212566  0.402526\n",
       "e       -0.193388 -0.360631 -0.397592 -0.971724 -0.050057 -0.317539\n",
       "f       -0.188679 -2.008381  0.831187  1.211726 -0.775149 -0.742906"
      ]
     },
     "execution_count": 25,
     "metadata": {},
     "output_type": "execute_result"
    }
   ],
   "source": [
    "from numpy.random import randn\n",
    "dataframe=DataFrame(randn(36).reshape(6,6),index=['a','b','c','d','e','f'],\n",
    "                    columns=['c1','c2','c3','c4','c5','c6'])\n",
    "dataframe.index.name='indexes'\n",
    "dataframe"
   ]
  },
  {
   "cell_type": "code",
   "execution_count": 27,
   "metadata": {},
   "outputs": [
    {
     "data": {
      "text/html": [
       "<div>\n",
       "<style scoped>\n",
       "    .dataframe tbody tr th:only-of-type {\n",
       "        vertical-align: middle;\n",
       "    }\n",
       "\n",
       "    .dataframe tbody tr th {\n",
       "        vertical-align: top;\n",
       "    }\n",
       "\n",
       "    .dataframe thead th {\n",
       "        text-align: right;\n",
       "    }\n",
       "</style>\n",
       "<table border=\"1\" class=\"dataframe\">\n",
       "  <thead>\n",
       "    <tr style=\"text-align: right;\">\n",
       "      <th></th>\n",
       "      <th>c1</th>\n",
       "      <th>c2</th>\n",
       "      <th>c3</th>\n",
       "      <th>c4</th>\n",
       "      <th>c5</th>\n",
       "      <th>c6</th>\n",
       "    </tr>\n",
       "    <tr>\n",
       "      <th>indexes</th>\n",
       "      <th></th>\n",
       "      <th></th>\n",
       "      <th></th>\n",
       "      <th></th>\n",
       "      <th></th>\n",
       "      <th></th>\n",
       "    </tr>\n",
       "  </thead>\n",
       "  <tbody>\n",
       "    <tr>\n",
       "      <th>a</th>\n",
       "      <td>-0.387310</td>\n",
       "      <td>-0.781589</td>\n",
       "      <td>0.942747</td>\n",
       "      <td>1.424576</td>\n",
       "      <td>-0.331886</td>\n",
       "      <td>-0.101165</td>\n",
       "    </tr>\n",
       "    <tr>\n",
       "      <th>b</th>\n",
       "      <td>-0.751129</td>\n",
       "      <td>-1.177080</td>\n",
       "      <td>-0.173739</td>\n",
       "      <td>-0.144970</td>\n",
       "      <td>0.968525</td>\n",
       "      <td>1.597383</td>\n",
       "    </tr>\n",
       "    <tr>\n",
       "      <th>c</th>\n",
       "      <td>0.144235</td>\n",
       "      <td>-0.957362</td>\n",
       "      <td>0.077069</td>\n",
       "      <td>0.359272</td>\n",
       "      <td>-1.513577</td>\n",
       "      <td>1.316740</td>\n",
       "    </tr>\n",
       "    <tr>\n",
       "      <th>d</th>\n",
       "      <td>-1.894112</td>\n",
       "      <td>-0.154833</td>\n",
       "      <td>-0.281132</td>\n",
       "      <td>-1.144495</td>\n",
       "      <td>-0.212566</td>\n",
       "      <td>0.402526</td>\n",
       "    </tr>\n",
       "    <tr>\n",
       "      <th>e</th>\n",
       "      <td>-0.193388</td>\n",
       "      <td>-0.360631</td>\n",
       "      <td>-0.397592</td>\n",
       "      <td>-0.971724</td>\n",
       "      <td>-0.050057</td>\n",
       "      <td>-0.317539</td>\n",
       "    </tr>\n",
       "    <tr>\n",
       "      <th>f</th>\n",
       "      <td>-0.188679</td>\n",
       "      <td>-2.008381</td>\n",
       "      <td>0.831187</td>\n",
       "      <td>1.211726</td>\n",
       "      <td>-0.775149</td>\n",
       "      <td>-0.742906</td>\n",
       "    </tr>\n",
       "    <tr>\n",
       "      <th>g</th>\n",
       "      <td>0.000000</td>\n",
       "      <td>0.000000</td>\n",
       "      <td>0.000000</td>\n",
       "      <td>0.000000</td>\n",
       "      <td>0.000000</td>\n",
       "      <td>0.000000</td>\n",
       "    </tr>\n",
       "  </tbody>\n",
       "</table>\n",
       "</div>"
      ],
      "text/plain": [
       "               c1        c2        c3        c4        c5        c6\n",
       "indexes                                                            \n",
       "a       -0.387310 -0.781589  0.942747  1.424576 -0.331886 -0.101165\n",
       "b       -0.751129 -1.177080 -0.173739 -0.144970  0.968525  1.597383\n",
       "c        0.144235 -0.957362  0.077069  0.359272 -1.513577  1.316740\n",
       "d       -1.894112 -0.154833 -0.281132 -1.144495 -0.212566  0.402526\n",
       "e       -0.193388 -0.360631 -0.397592 -0.971724 -0.050057 -0.317539\n",
       "f       -0.188679 -2.008381  0.831187  1.211726 -0.775149 -0.742906\n",
       "g        0.000000  0.000000  0.000000  0.000000  0.000000  0.000000"
      ]
     },
     "execution_count": 27,
     "metadata": {},
     "output_type": "execute_result"
    }
   ],
   "source": [
    "dframe2=dataframe.reindex(index=['a','b','c','d','e','f','g'],fill_value=0)\n",
    "dframe2"
   ]
  },
  {
   "cell_type": "code",
   "execution_count": 29,
   "metadata": {},
   "outputs": [],
   "source": [
    "columns_new=['c1','c2','c3','c4','c5','c6','c7']"
   ]
  },
  {
   "cell_type": "code",
   "execution_count": 30,
   "metadata": {},
   "outputs": [
    {
     "data": {
      "text/html": [
       "<div>\n",
       "<style scoped>\n",
       "    .dataframe tbody tr th:only-of-type {\n",
       "        vertical-align: middle;\n",
       "    }\n",
       "\n",
       "    .dataframe tbody tr th {\n",
       "        vertical-align: top;\n",
       "    }\n",
       "\n",
       "    .dataframe thead th {\n",
       "        text-align: right;\n",
       "    }\n",
       "</style>\n",
       "<table border=\"1\" class=\"dataframe\">\n",
       "  <thead>\n",
       "    <tr style=\"text-align: right;\">\n",
       "      <th></th>\n",
       "      <th>c1</th>\n",
       "      <th>c2</th>\n",
       "      <th>c3</th>\n",
       "      <th>c4</th>\n",
       "      <th>c5</th>\n",
       "      <th>c6</th>\n",
       "      <th>c7</th>\n",
       "    </tr>\n",
       "    <tr>\n",
       "      <th>indexes</th>\n",
       "      <th></th>\n",
       "      <th></th>\n",
       "      <th></th>\n",
       "      <th></th>\n",
       "      <th></th>\n",
       "      <th></th>\n",
       "      <th></th>\n",
       "    </tr>\n",
       "  </thead>\n",
       "  <tbody>\n",
       "    <tr>\n",
       "      <th>a</th>\n",
       "      <td>-0.387310</td>\n",
       "      <td>-0.781589</td>\n",
       "      <td>0.942747</td>\n",
       "      <td>1.424576</td>\n",
       "      <td>-0.331886</td>\n",
       "      <td>-0.101165</td>\n",
       "      <td>0</td>\n",
       "    </tr>\n",
       "    <tr>\n",
       "      <th>b</th>\n",
       "      <td>-0.751129</td>\n",
       "      <td>-1.177080</td>\n",
       "      <td>-0.173739</td>\n",
       "      <td>-0.144970</td>\n",
       "      <td>0.968525</td>\n",
       "      <td>1.597383</td>\n",
       "      <td>0</td>\n",
       "    </tr>\n",
       "    <tr>\n",
       "      <th>c</th>\n",
       "      <td>0.144235</td>\n",
       "      <td>-0.957362</td>\n",
       "      <td>0.077069</td>\n",
       "      <td>0.359272</td>\n",
       "      <td>-1.513577</td>\n",
       "      <td>1.316740</td>\n",
       "      <td>0</td>\n",
       "    </tr>\n",
       "    <tr>\n",
       "      <th>d</th>\n",
       "      <td>-1.894112</td>\n",
       "      <td>-0.154833</td>\n",
       "      <td>-0.281132</td>\n",
       "      <td>-1.144495</td>\n",
       "      <td>-0.212566</td>\n",
       "      <td>0.402526</td>\n",
       "      <td>0</td>\n",
       "    </tr>\n",
       "    <tr>\n",
       "      <th>e</th>\n",
       "      <td>-0.193388</td>\n",
       "      <td>-0.360631</td>\n",
       "      <td>-0.397592</td>\n",
       "      <td>-0.971724</td>\n",
       "      <td>-0.050057</td>\n",
       "      <td>-0.317539</td>\n",
       "      <td>0</td>\n",
       "    </tr>\n",
       "    <tr>\n",
       "      <th>f</th>\n",
       "      <td>-0.188679</td>\n",
       "      <td>-2.008381</td>\n",
       "      <td>0.831187</td>\n",
       "      <td>1.211726</td>\n",
       "      <td>-0.775149</td>\n",
       "      <td>-0.742906</td>\n",
       "      <td>0</td>\n",
       "    </tr>\n",
       "    <tr>\n",
       "      <th>g</th>\n",
       "      <td>0.000000</td>\n",
       "      <td>0.000000</td>\n",
       "      <td>0.000000</td>\n",
       "      <td>0.000000</td>\n",
       "      <td>0.000000</td>\n",
       "      <td>0.000000</td>\n",
       "      <td>0</td>\n",
       "    </tr>\n",
       "  </tbody>\n",
       "</table>\n",
       "</div>"
      ],
      "text/plain": [
       "               c1        c2        c3        c4        c5        c6  c7\n",
       "indexes                                                                \n",
       "a       -0.387310 -0.781589  0.942747  1.424576 -0.331886 -0.101165   0\n",
       "b       -0.751129 -1.177080 -0.173739 -0.144970  0.968525  1.597383   0\n",
       "c        0.144235 -0.957362  0.077069  0.359272 -1.513577  1.316740   0\n",
       "d       -1.894112 -0.154833 -0.281132 -1.144495 -0.212566  0.402526   0\n",
       "e       -0.193388 -0.360631 -0.397592 -0.971724 -0.050057 -0.317539   0\n",
       "f       -0.188679 -2.008381  0.831187  1.211726 -0.775149 -0.742906   0\n",
       "g        0.000000  0.000000  0.000000  0.000000  0.000000  0.000000   0"
      ]
     },
     "execution_count": 30,
     "metadata": {},
     "output_type": "execute_result"
    }
   ],
   "source": [
    "dframe2.reindex(columns=columns_new,fill_value=0)"
   ]
  },
  {
   "cell_type": "code",
   "execution_count": 31,
   "metadata": {},
   "outputs": [
    {
     "name": "stderr",
     "output_type": "stream",
     "text": [
      "C:\\Users\\sk314\\Anaconda2\\lib\\site-packages\\pandas\\core\\indexing.py:1494: FutureWarning: \n",
      "Passing list-likes to .loc or [] with any missing label will raise\n",
      "KeyError in the future, you can use .reindex() as an alternative.\n",
      "\n",
      "See the documentation here:\n",
      "https://pandas.pydata.org/pandas-docs/stable/indexing.html#deprecate-loc-reindex-listlike\n",
      "  return self._getitem_tuple(key)\n"
     ]
    },
    {
     "data": {
      "text/html": [
       "<div>\n",
       "<style scoped>\n",
       "    .dataframe tbody tr th:only-of-type {\n",
       "        vertical-align: middle;\n",
       "    }\n",
       "\n",
       "    .dataframe tbody tr th {\n",
       "        vertical-align: top;\n",
       "    }\n",
       "\n",
       "    .dataframe thead th {\n",
       "        text-align: right;\n",
       "    }\n",
       "</style>\n",
       "<table border=\"1\" class=\"dataframe\">\n",
       "  <thead>\n",
       "    <tr style=\"text-align: right;\">\n",
       "      <th></th>\n",
       "      <th>c1</th>\n",
       "      <th>c2</th>\n",
       "      <th>c3</th>\n",
       "      <th>c4</th>\n",
       "      <th>c5</th>\n",
       "      <th>c6</th>\n",
       "      <th>c7</th>\n",
       "    </tr>\n",
       "    <tr>\n",
       "      <th>indexes</th>\n",
       "      <th></th>\n",
       "      <th></th>\n",
       "      <th></th>\n",
       "      <th></th>\n",
       "      <th></th>\n",
       "      <th></th>\n",
       "      <th></th>\n",
       "    </tr>\n",
       "  </thead>\n",
       "  <tbody>\n",
       "    <tr>\n",
       "      <th>a</th>\n",
       "      <td>-0.387310</td>\n",
       "      <td>-0.781589</td>\n",
       "      <td>0.942747</td>\n",
       "      <td>1.424576</td>\n",
       "      <td>-0.331886</td>\n",
       "      <td>-0.101165</td>\n",
       "      <td>NaN</td>\n",
       "    </tr>\n",
       "    <tr>\n",
       "      <th>b</th>\n",
       "      <td>-0.751129</td>\n",
       "      <td>-1.177080</td>\n",
       "      <td>-0.173739</td>\n",
       "      <td>-0.144970</td>\n",
       "      <td>0.968525</td>\n",
       "      <td>1.597383</td>\n",
       "      <td>NaN</td>\n",
       "    </tr>\n",
       "    <tr>\n",
       "      <th>c</th>\n",
       "      <td>0.144235</td>\n",
       "      <td>-0.957362</td>\n",
       "      <td>0.077069</td>\n",
       "      <td>0.359272</td>\n",
       "      <td>-1.513577</td>\n",
       "      <td>1.316740</td>\n",
       "      <td>NaN</td>\n",
       "    </tr>\n",
       "    <tr>\n",
       "      <th>d</th>\n",
       "      <td>-1.894112</td>\n",
       "      <td>-0.154833</td>\n",
       "      <td>-0.281132</td>\n",
       "      <td>-1.144495</td>\n",
       "      <td>-0.212566</td>\n",
       "      <td>0.402526</td>\n",
       "      <td>NaN</td>\n",
       "    </tr>\n",
       "    <tr>\n",
       "      <th>e</th>\n",
       "      <td>-0.193388</td>\n",
       "      <td>-0.360631</td>\n",
       "      <td>-0.397592</td>\n",
       "      <td>-0.971724</td>\n",
       "      <td>-0.050057</td>\n",
       "      <td>-0.317539</td>\n",
       "      <td>NaN</td>\n",
       "    </tr>\n",
       "    <tr>\n",
       "      <th>f</th>\n",
       "      <td>-0.188679</td>\n",
       "      <td>-2.008381</td>\n",
       "      <td>0.831187</td>\n",
       "      <td>1.211726</td>\n",
       "      <td>-0.775149</td>\n",
       "      <td>-0.742906</td>\n",
       "      <td>NaN</td>\n",
       "    </tr>\n",
       "    <tr>\n",
       "      <th>g</th>\n",
       "      <td>0.000000</td>\n",
       "      <td>0.000000</td>\n",
       "      <td>0.000000</td>\n",
       "      <td>0.000000</td>\n",
       "      <td>0.000000</td>\n",
       "      <td>0.000000</td>\n",
       "      <td>NaN</td>\n",
       "    </tr>\n",
       "  </tbody>\n",
       "</table>\n",
       "</div>"
      ],
      "text/plain": [
       "               c1        c2        c3        c4        c5        c6  c7\n",
       "indexes                                                                \n",
       "a       -0.387310 -0.781589  0.942747  1.424576 -0.331886 -0.101165 NaN\n",
       "b       -0.751129 -1.177080 -0.173739 -0.144970  0.968525  1.597383 NaN\n",
       "c        0.144235 -0.957362  0.077069  0.359272 -1.513577  1.316740 NaN\n",
       "d       -1.894112 -0.154833 -0.281132 -1.144495 -0.212566  0.402526 NaN\n",
       "e       -0.193388 -0.360631 -0.397592 -0.971724 -0.050057 -0.317539 NaN\n",
       "f       -0.188679 -2.008381  0.831187  1.211726 -0.775149 -0.742906 NaN\n",
       "g        0.000000  0.000000  0.000000  0.000000  0.000000  0.000000 NaN"
      ]
     },
     "execution_count": 31,
     "metadata": {},
     "output_type": "execute_result"
    }
   ],
   "source": [
    "dframe2.loc[['a','b','c','d','e','f','g'],columns_new]"
   ]
  },
  {
   "cell_type": "markdown",
   "metadata": {},
   "source": [
    "## drop entry"
   ]
  },
  {
   "cell_type": "code",
   "execution_count": 32,
   "metadata": {},
   "outputs": [
    {
     "data": {
      "text/plain": [
       "a   -0.444232\n",
       "b    0.866747\n",
       "c   -0.926693\n",
       "d   -0.646726\n",
       "dtype: float64"
      ]
     },
     "execution_count": 32,
     "metadata": {},
     "output_type": "execute_result"
    }
   ],
   "source": [
    "srs=Series(randn(4),index=['a','b','c','d'])\n",
    "srs"
   ]
  },
  {
   "cell_type": "code",
   "execution_count": 33,
   "metadata": {},
   "outputs": [
    {
     "data": {
      "text/plain": [
       "a   -0.444232\n",
       "c   -0.926693\n",
       "d   -0.646726\n",
       "dtype: float64"
      ]
     },
     "execution_count": 33,
     "metadata": {},
     "output_type": "execute_result"
    }
   ],
   "source": [
    "#now if we want to drop b -----> .drop(index)\n",
    "srs.drop('b')"
   ]
  },
  {
   "cell_type": "code",
   "execution_count": 48,
   "metadata": {},
   "outputs": [
    {
     "data": {
      "text/html": [
       "<div>\n",
       "<style scoped>\n",
       "    .dataframe tbody tr th:only-of-type {\n",
       "        vertical-align: middle;\n",
       "    }\n",
       "\n",
       "    .dataframe tbody tr th {\n",
       "        vertical-align: top;\n",
       "    }\n",
       "\n",
       "    .dataframe thead th {\n",
       "        text-align: right;\n",
       "    }\n",
       "</style>\n",
       "<table border=\"1\" class=\"dataframe\">\n",
       "  <thead>\n",
       "    <tr style=\"text-align: right;\">\n",
       "      <th></th>\n",
       "      <th>pop</th>\n",
       "      <th>size</th>\n",
       "      <th>area</th>\n",
       "    </tr>\n",
       "    <tr>\n",
       "      <th>Countries</th>\n",
       "      <th></th>\n",
       "      <th></th>\n",
       "      <th></th>\n",
       "    </tr>\n",
       "  </thead>\n",
       "  <tbody>\n",
       "    <tr>\n",
       "      <th>INDIA</th>\n",
       "      <td>-0.468357</td>\n",
       "      <td>0.956818</td>\n",
       "      <td>0.119882</td>\n",
       "    </tr>\n",
       "    <tr>\n",
       "      <th>USA</th>\n",
       "      <td>-0.070006</td>\n",
       "      <td>-0.929099</td>\n",
       "      <td>0.285958</td>\n",
       "    </tr>\n",
       "    <tr>\n",
       "      <th>RUSSIA</th>\n",
       "      <td>2.548512</td>\n",
       "      <td>-0.991358</td>\n",
       "      <td>0.354509</td>\n",
       "    </tr>\n",
       "  </tbody>\n",
       "</table>\n",
       "</div>"
      ],
      "text/plain": [
       "                pop      size      area\n",
       "Countries                              \n",
       "INDIA     -0.468357  0.956818  0.119882\n",
       "USA       -0.070006 -0.929099  0.285958\n",
       "RUSSIA     2.548512 -0.991358  0.354509"
      ]
     },
     "execution_count": 48,
     "metadata": {},
     "output_type": "execute_result"
    }
   ],
   "source": [
    "dframe3=DataFrame(randn(9).reshape(3,3),index=['INDIA','USA','RUSSIA'],columns=['pop','size','area'])\n",
    "dframe3.index.name='Countries'\n",
    "dframe3"
   ]
  },
  {
   "cell_type": "code",
   "execution_count": 49,
   "metadata": {},
   "outputs": [
    {
     "data": {
      "text/html": [
       "<div>\n",
       "<style scoped>\n",
       "    .dataframe tbody tr th:only-of-type {\n",
       "        vertical-align: middle;\n",
       "    }\n",
       "\n",
       "    .dataframe tbody tr th {\n",
       "        vertical-align: top;\n",
       "    }\n",
       "\n",
       "    .dataframe thead th {\n",
       "        text-align: right;\n",
       "    }\n",
       "</style>\n",
       "<table border=\"1\" class=\"dataframe\">\n",
       "  <thead>\n",
       "    <tr style=\"text-align: right;\">\n",
       "      <th></th>\n",
       "      <th>pop</th>\n",
       "      <th>size</th>\n",
       "      <th>area</th>\n",
       "    </tr>\n",
       "    <tr>\n",
       "      <th>Countries</th>\n",
       "      <th></th>\n",
       "      <th></th>\n",
       "      <th></th>\n",
       "    </tr>\n",
       "  </thead>\n",
       "  <tbody>\n",
       "    <tr>\n",
       "      <th>INDIA</th>\n",
       "      <td>-0.468357</td>\n",
       "      <td>0.956818</td>\n",
       "      <td>0.119882</td>\n",
       "    </tr>\n",
       "    <tr>\n",
       "      <th>RUSSIA</th>\n",
       "      <td>2.548512</td>\n",
       "      <td>-0.991358</td>\n",
       "      <td>0.354509</td>\n",
       "    </tr>\n",
       "  </tbody>\n",
       "</table>\n",
       "</div>"
      ],
      "text/plain": [
       "                pop      size      area\n",
       "Countries                              \n",
       "INDIA     -0.468357  0.956818  0.119882\n",
       "RUSSIA     2.548512 -0.991358  0.354509"
      ]
     },
     "execution_count": 49,
     "metadata": {},
     "output_type": "execute_result"
    }
   ],
   "source": [
    "dframe3.drop('USA')"
   ]
  },
  {
   "cell_type": "code",
   "execution_count": 50,
   "metadata": {},
   "outputs": [
    {
     "data": {
      "text/html": [
       "<div>\n",
       "<style scoped>\n",
       "    .dataframe tbody tr th:only-of-type {\n",
       "        vertical-align: middle;\n",
       "    }\n",
       "\n",
       "    .dataframe tbody tr th {\n",
       "        vertical-align: top;\n",
       "    }\n",
       "\n",
       "    .dataframe thead th {\n",
       "        text-align: right;\n",
       "    }\n",
       "</style>\n",
       "<table border=\"1\" class=\"dataframe\">\n",
       "  <thead>\n",
       "    <tr style=\"text-align: right;\">\n",
       "      <th></th>\n",
       "      <th>pop</th>\n",
       "      <th>size</th>\n",
       "      <th>area</th>\n",
       "    </tr>\n",
       "    <tr>\n",
       "      <th>Countries</th>\n",
       "      <th></th>\n",
       "      <th></th>\n",
       "      <th></th>\n",
       "    </tr>\n",
       "  </thead>\n",
       "  <tbody>\n",
       "    <tr>\n",
       "      <th>INDIA</th>\n",
       "      <td>-0.468357</td>\n",
       "      <td>0.956818</td>\n",
       "      <td>0.119882</td>\n",
       "    </tr>\n",
       "    <tr>\n",
       "      <th>USA</th>\n",
       "      <td>-0.070006</td>\n",
       "      <td>-0.929099</td>\n",
       "      <td>0.285958</td>\n",
       "    </tr>\n",
       "    <tr>\n",
       "      <th>RUSSIA</th>\n",
       "      <td>2.548512</td>\n",
       "      <td>-0.991358</td>\n",
       "      <td>0.354509</td>\n",
       "    </tr>\n",
       "  </tbody>\n",
       "</table>\n",
       "</div>"
      ],
      "text/plain": [
       "                pop      size      area\n",
       "Countries                              \n",
       "INDIA     -0.468357  0.956818  0.119882\n",
       "USA       -0.070006 -0.929099  0.285958\n",
       "RUSSIA     2.548512 -0.991358  0.354509"
      ]
     },
     "execution_count": 50,
     "metadata": {},
     "output_type": "execute_result"
    }
   ],
   "source": [
    "dframe3"
   ]
  },
  {
   "cell_type": "markdown",
   "metadata": {},
   "source": [
    "## .drop() doesn't affect permanantly so if you want to use a dropped array just save it with another name or just set inplace = Ture"
   ]
  },
  {
   "cell_type": "code",
   "execution_count": 51,
   "metadata": {},
   "outputs": [
    {
     "data": {
      "text/html": [
       "<div>\n",
       "<style scoped>\n",
       "    .dataframe tbody tr th:only-of-type {\n",
       "        vertical-align: middle;\n",
       "    }\n",
       "\n",
       "    .dataframe tbody tr th {\n",
       "        vertical-align: top;\n",
       "    }\n",
       "\n",
       "    .dataframe thead th {\n",
       "        text-align: right;\n",
       "    }\n",
       "</style>\n",
       "<table border=\"1\" class=\"dataframe\">\n",
       "  <thead>\n",
       "    <tr style=\"text-align: right;\">\n",
       "      <th></th>\n",
       "      <th>pop</th>\n",
       "      <th>size</th>\n",
       "      <th>area</th>\n",
       "    </tr>\n",
       "    <tr>\n",
       "      <th>Countries</th>\n",
       "      <th></th>\n",
       "      <th></th>\n",
       "      <th></th>\n",
       "    </tr>\n",
       "  </thead>\n",
       "  <tbody>\n",
       "    <tr>\n",
       "      <th>INDIA</th>\n",
       "      <td>-0.468357</td>\n",
       "      <td>0.956818</td>\n",
       "      <td>0.119882</td>\n",
       "    </tr>\n",
       "    <tr>\n",
       "      <th>RUSSIA</th>\n",
       "      <td>2.548512</td>\n",
       "      <td>-0.991358</td>\n",
       "      <td>0.354509</td>\n",
       "    </tr>\n",
       "  </tbody>\n",
       "</table>\n",
       "</div>"
      ],
      "text/plain": [
       "                pop      size      area\n",
       "Countries                              \n",
       "INDIA     -0.468357  0.956818  0.119882\n",
       "RUSSIA     2.548512 -0.991358  0.354509"
      ]
     },
     "execution_count": 51,
     "metadata": {},
     "output_type": "execute_result"
    }
   ],
   "source": [
    "#like this\n",
    "dframe3_dropped=dframe3.drop('USA')\n",
    "dframe3_dropped"
   ]
  },
  {
   "cell_type": "markdown",
   "metadata": {},
   "source": [
    "### in case of column drop, specify the axis (column axis=1)"
   ]
  },
  {
   "cell_type": "code",
   "execution_count": 52,
   "metadata": {},
   "outputs": [
    {
     "data": {
      "text/html": [
       "<div>\n",
       "<style scoped>\n",
       "    .dataframe tbody tr th:only-of-type {\n",
       "        vertical-align: middle;\n",
       "    }\n",
       "\n",
       "    .dataframe tbody tr th {\n",
       "        vertical-align: top;\n",
       "    }\n",
       "\n",
       "    .dataframe thead th {\n",
       "        text-align: right;\n",
       "    }\n",
       "</style>\n",
       "<table border=\"1\" class=\"dataframe\">\n",
       "  <thead>\n",
       "    <tr style=\"text-align: right;\">\n",
       "      <th></th>\n",
       "      <th>pop</th>\n",
       "      <th>size</th>\n",
       "    </tr>\n",
       "    <tr>\n",
       "      <th>Countries</th>\n",
       "      <th></th>\n",
       "      <th></th>\n",
       "    </tr>\n",
       "  </thead>\n",
       "  <tbody>\n",
       "    <tr>\n",
       "      <th>INDIA</th>\n",
       "      <td>-0.468357</td>\n",
       "      <td>0.956818</td>\n",
       "    </tr>\n",
       "    <tr>\n",
       "      <th>USA</th>\n",
       "      <td>-0.070006</td>\n",
       "      <td>-0.929099</td>\n",
       "    </tr>\n",
       "    <tr>\n",
       "      <th>RUSSIA</th>\n",
       "      <td>2.548512</td>\n",
       "      <td>-0.991358</td>\n",
       "    </tr>\n",
       "  </tbody>\n",
       "</table>\n",
       "</div>"
      ],
      "text/plain": [
       "                pop      size\n",
       "Countries                    \n",
       "INDIA     -0.468357  0.956818\n",
       "USA       -0.070006 -0.929099\n",
       "RUSSIA     2.548512 -0.991358"
      ]
     },
     "execution_count": 52,
     "metadata": {},
     "output_type": "execute_result"
    }
   ],
   "source": [
    "dframe3.drop('area',axis=1)"
   ]
  },
  {
   "cell_type": "markdown",
   "metadata": {},
   "source": [
    "## selecting enteries"
   ]
  },
  {
   "cell_type": "code",
   "execution_count": 53,
   "metadata": {},
   "outputs": [
    {
     "data": {
      "text/html": [
       "<div>\n",
       "<style scoped>\n",
       "    .dataframe tbody tr th:only-of-type {\n",
       "        vertical-align: middle;\n",
       "    }\n",
       "\n",
       "    .dataframe tbody tr th {\n",
       "        vertical-align: top;\n",
       "    }\n",
       "\n",
       "    .dataframe thead th {\n",
       "        text-align: right;\n",
       "    }\n",
       "</style>\n",
       "<table border=\"1\" class=\"dataframe\">\n",
       "  <thead>\n",
       "    <tr style=\"text-align: right;\">\n",
       "      <th></th>\n",
       "      <th>c1</th>\n",
       "      <th>c2</th>\n",
       "      <th>c3</th>\n",
       "      <th>c4</th>\n",
       "    </tr>\n",
       "  </thead>\n",
       "  <tbody>\n",
       "    <tr>\n",
       "      <th>a</th>\n",
       "      <td>1.236134</td>\n",
       "      <td>0.112106</td>\n",
       "      <td>-0.257285</td>\n",
       "      <td>-1.320534</td>\n",
       "    </tr>\n",
       "    <tr>\n",
       "      <th>b</th>\n",
       "      <td>-1.432406</td>\n",
       "      <td>-0.061341</td>\n",
       "      <td>0.524506</td>\n",
       "      <td>-0.119673</td>\n",
       "    </tr>\n",
       "    <tr>\n",
       "      <th>c</th>\n",
       "      <td>2.109387</td>\n",
       "      <td>1.532290</td>\n",
       "      <td>0.037023</td>\n",
       "      <td>1.211936</td>\n",
       "    </tr>\n",
       "    <tr>\n",
       "      <th>d</th>\n",
       "      <td>-1.369877</td>\n",
       "      <td>0.496995</td>\n",
       "      <td>1.058424</td>\n",
       "      <td>-1.836574</td>\n",
       "    </tr>\n",
       "  </tbody>\n",
       "</table>\n",
       "</div>"
      ],
      "text/plain": [
       "         c1        c2        c3        c4\n",
       "a  1.236134  0.112106 -0.257285 -1.320534\n",
       "b -1.432406 -0.061341  0.524506 -0.119673\n",
       "c  2.109387  1.532290  0.037023  1.211936\n",
       "d -1.369877  0.496995  1.058424 -1.836574"
      ]
     },
     "execution_count": 53,
     "metadata": {},
     "output_type": "execute_result"
    }
   ],
   "source": [
    "dframe4=DataFrame(randn(16).reshape((4,4)),index=['a','b','c','d'],columns=['c1','c2','c3','c4'])\n",
    "dframe4"
   ]
  },
  {
   "cell_type": "code",
   "execution_count": 54,
   "metadata": {},
   "outputs": [
    {
     "data": {
      "text/html": [
       "<div>\n",
       "<style scoped>\n",
       "    .dataframe tbody tr th:only-of-type {\n",
       "        vertical-align: middle;\n",
       "    }\n",
       "\n",
       "    .dataframe tbody tr th {\n",
       "        vertical-align: top;\n",
       "    }\n",
       "\n",
       "    .dataframe thead th {\n",
       "        text-align: right;\n",
       "    }\n",
       "</style>\n",
       "<table border=\"1\" class=\"dataframe\">\n",
       "  <thead>\n",
       "    <tr style=\"text-align: right;\">\n",
       "      <th></th>\n",
       "      <th>c1</th>\n",
       "      <th>c2</th>\n",
       "      <th>c3</th>\n",
       "      <th>c4</th>\n",
       "    </tr>\n",
       "  </thead>\n",
       "  <tbody>\n",
       "    <tr>\n",
       "      <th>a</th>\n",
       "      <td>1.236134</td>\n",
       "      <td>0.112106</td>\n",
       "      <td>-0.257285</td>\n",
       "      <td>-1.320534</td>\n",
       "    </tr>\n",
       "    <tr>\n",
       "      <th>c</th>\n",
       "      <td>2.109387</td>\n",
       "      <td>1.532290</td>\n",
       "      <td>0.037023</td>\n",
       "      <td>1.211936</td>\n",
       "    </tr>\n",
       "  </tbody>\n",
       "</table>\n",
       "</div>"
      ],
      "text/plain": [
       "         c1        c2        c3        c4\n",
       "a  1.236134  0.112106 -0.257285 -1.320534\n",
       "c  2.109387  1.532290  0.037023  1.211936"
      ]
     },
     "execution_count": 54,
     "metadata": {},
     "output_type": "execute_result"
    }
   ],
   "source": [
    "dframe4[dframe4['c1']>0]"
   ]
  },
  {
   "cell_type": "code",
   "execution_count": 61,
   "metadata": {},
   "outputs": [
    {
     "data": {
      "text/html": [
       "<div>\n",
       "<style scoped>\n",
       "    .dataframe tbody tr th:only-of-type {\n",
       "        vertical-align: middle;\n",
       "    }\n",
       "\n",
       "    .dataframe tbody tr th {\n",
       "        vertical-align: top;\n",
       "    }\n",
       "\n",
       "    .dataframe thead th {\n",
       "        text-align: right;\n",
       "    }\n",
       "</style>\n",
       "<table border=\"1\" class=\"dataframe\">\n",
       "  <thead>\n",
       "    <tr style=\"text-align: right;\">\n",
       "      <th></th>\n",
       "      <th>c1</th>\n",
       "      <th>c2</th>\n",
       "      <th>c3</th>\n",
       "      <th>c4</th>\n",
       "    </tr>\n",
       "  </thead>\n",
       "  <tbody>\n",
       "    <tr>\n",
       "      <th>a</th>\n",
       "      <td>1.236134</td>\n",
       "      <td>0.112106</td>\n",
       "      <td>-0.257285</td>\n",
       "      <td>-1.320534</td>\n",
       "    </tr>\n",
       "    <tr>\n",
       "      <th>c</th>\n",
       "      <td>2.109387</td>\n",
       "      <td>1.532290</td>\n",
       "      <td>0.037023</td>\n",
       "      <td>1.211936</td>\n",
       "    </tr>\n",
       "  </tbody>\n",
       "</table>\n",
       "</div>"
      ],
      "text/plain": [
       "         c1        c2        c3        c4\n",
       "a  1.236134  0.112106 -0.257285 -1.320534\n",
       "c  2.109387  1.532290  0.037023  1.211936"
      ]
     },
     "execution_count": 61,
     "metadata": {},
     "output_type": "execute_result"
    }
   ],
   "source": [
    "dframe4[dframe4['c1']>0]"
   ]
  },
  {
   "cell_type": "code",
   "execution_count": 83,
   "metadata": {},
   "outputs": [
    {
     "data": {
      "text/html": [
       "<div>\n",
       "<style scoped>\n",
       "    .dataframe tbody tr th:only-of-type {\n",
       "        vertical-align: middle;\n",
       "    }\n",
       "\n",
       "    .dataframe tbody tr th {\n",
       "        vertical-align: top;\n",
       "    }\n",
       "\n",
       "    .dataframe thead th {\n",
       "        text-align: right;\n",
       "    }\n",
       "</style>\n",
       "<table border=\"1\" class=\"dataframe\">\n",
       "  <thead>\n",
       "    <tr style=\"text-align: right;\">\n",
       "      <th></th>\n",
       "      <th>c1</th>\n",
       "      <th>c2</th>\n",
       "      <th>c3</th>\n",
       "      <th>c4</th>\n",
       "    </tr>\n",
       "  </thead>\n",
       "  <tbody>\n",
       "    <tr>\n",
       "      <th>a</th>\n",
       "      <td>True</td>\n",
       "      <td>True</td>\n",
       "      <td>True</td>\n",
       "      <td>True</td>\n",
       "    </tr>\n",
       "    <tr>\n",
       "      <th>b</th>\n",
       "      <td>True</td>\n",
       "      <td>False</td>\n",
       "      <td>False</td>\n",
       "      <td>True</td>\n",
       "    </tr>\n",
       "    <tr>\n",
       "      <th>c</th>\n",
       "      <td>False</td>\n",
       "      <td>True</td>\n",
       "      <td>False</td>\n",
       "      <td>True</td>\n",
       "    </tr>\n",
       "    <tr>\n",
       "      <th>d</th>\n",
       "      <td>False</td>\n",
       "      <td>True</td>\n",
       "      <td>True</td>\n",
       "      <td>False</td>\n",
       "    </tr>\n",
       "  </tbody>\n",
       "</table>\n",
       "</div>"
      ],
      "text/plain": [
       "      c1     c2     c3     c4\n",
       "a   True   True   True   True\n",
       "b   True  False  False   True\n",
       "c  False   True  False   True\n",
       "d  False   True   True  False"
      ]
     },
     "execution_count": 83,
     "metadata": {},
     "output_type": "execute_result"
    }
   ],
   "source": [
    "dframe4>0"
   ]
  },
  {
   "cell_type": "code",
   "execution_count": 85,
   "metadata": {},
   "outputs": [
    {
     "data": {
      "text/plain": [
       "c1   -1.062117\n",
       "c2    1.595810\n",
       "c3    1.081720\n",
       "c4   -0.459590\n",
       "Name: d, dtype: float64"
      ]
     },
     "execution_count": 85,
     "metadata": {},
     "output_type": "execute_result"
    }
   ],
   "source": [
    "# to retrieve data from row use .ix, .loc,.iloc\n",
    "dframe4.loc['d']"
   ]
  },
  {
   "cell_type": "code",
   "execution_count": 86,
   "metadata": {},
   "outputs": [
    {
     "data": {
      "text/plain": [
       "c1   -0.625868\n",
       "c2    0.472540\n",
       "c3   -0.179459\n",
       "c4    0.527172\n",
       "Name: c, dtype: float64"
      ]
     },
     "execution_count": 86,
     "metadata": {},
     "output_type": "execute_result"
    }
   ],
   "source": [
    "# retrieve c row\n",
    "dframe4.iloc[2]"
   ]
  },
  {
   "cell_type": "code",
   "execution_count": null,
   "metadata": {},
   "outputs": [],
   "source": []
  }
 ],
 "metadata": {
  "kernelspec": {
   "display_name": "Python 2",
   "language": "python",
   "name": "python2"
  },
  "language_info": {
   "codemirror_mode": {
    "name": "ipython",
    "version": 2
   },
   "file_extension": ".py",
   "mimetype": "text/x-python",
   "name": "python",
   "nbconvert_exporter": "python",
   "pygments_lexer": "ipython2",
   "version": "2.7.16"
  }
 },
 "nbformat": 4,
 "nbformat_minor": 2
}
