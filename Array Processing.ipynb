{
 "cells": [
  {
   "cell_type": "code",
   "execution_count": 36,
   "metadata": {},
   "outputs": [],
   "source": [
    "import numpy as np\n",
    "#importing pyplot from matplotlib use for plotting\n",
    "import matplotlib.pyplot as plt\n",
    "#in order to see the vizualing of mesh and some grid\n",
    "%matplotlib inline"
   ]
  },
  {
   "cell_type": "code",
   "execution_count": 11,
   "metadata": {},
   "outputs": [
    {
     "data": {
      "text/plain": [
       "array([-10. ,  -8.3,  -6.6,  -4.9,  -3.2,  -1.5,   0.2,   1.9,   3.6])"
      ]
     },
     "execution_count": 11,
     "metadata": {},
     "output_type": "execute_result"
    }
   ],
   "source": [
    "#a1=np.arange(start value,endvalue,increment by\n",
    "a1=np.arange(-10,5,1.7)\n",
    "a1"
   ]
  },
  {
   "cell_type": "markdown",
   "metadata": {},
   "source": [
    "## meshgrid function\n",
    "#The purpose of meshgrid function in Python is to create a rectangular grid out of an array of x values and an array of y values.\n",
    "#Suppose you want to create a grid where you have a point at each integer value between 0 and 4 in both the x and y directions."
   ]
  },
  {
   "cell_type": "code",
   "execution_count": 44,
   "metadata": {},
   "outputs": [],
   "source": [
    "x,y=np.meshgrid(a1,a1)"
   ]
  },
  {
   "cell_type": "code",
   "execution_count": 15,
   "metadata": {},
   "outputs": [
    {
     "data": {
      "text/plain": [
       "array([[-10. ,  -8.3,  -6.6,  -4.9,  -3.2,  -1.5,   0.2,   1.9,   3.6],\n",
       "       [-10. ,  -8.3,  -6.6,  -4.9,  -3.2,  -1.5,   0.2,   1.9,   3.6],\n",
       "       [-10. ,  -8.3,  -6.6,  -4.9,  -3.2,  -1.5,   0.2,   1.9,   3.6],\n",
       "       [-10. ,  -8.3,  -6.6,  -4.9,  -3.2,  -1.5,   0.2,   1.9,   3.6],\n",
       "       [-10. ,  -8.3,  -6.6,  -4.9,  -3.2,  -1.5,   0.2,   1.9,   3.6],\n",
       "       [-10. ,  -8.3,  -6.6,  -4.9,  -3.2,  -1.5,   0.2,   1.9,   3.6],\n",
       "       [-10. ,  -8.3,  -6.6,  -4.9,  -3.2,  -1.5,   0.2,   1.9,   3.6],\n",
       "       [-10. ,  -8.3,  -6.6,  -4.9,  -3.2,  -1.5,   0.2,   1.9,   3.6],\n",
       "       [-10. ,  -8.3,  -6.6,  -4.9,  -3.2,  -1.5,   0.2,   1.9,   3.6]])"
      ]
     },
     "execution_count": 15,
     "metadata": {},
     "output_type": "execute_result"
    }
   ],
   "source": [
    "x"
   ]
  },
  {
   "cell_type": "code",
   "execution_count": 45,
   "metadata": {},
   "outputs": [
    {
     "data": {
      "text/plain": [
       "array([[-10. , -10. , -10. , -10. , -10. , -10. , -10. , -10. , -10. ],\n",
       "       [ -8.3,  -8.3,  -8.3,  -8.3,  -8.3,  -8.3,  -8.3,  -8.3,  -8.3],\n",
       "       [ -6.6,  -6.6,  -6.6,  -6.6,  -6.6,  -6.6,  -6.6,  -6.6,  -6.6],\n",
       "       [ -4.9,  -4.9,  -4.9,  -4.9,  -4.9,  -4.9,  -4.9,  -4.9,  -4.9],\n",
       "       [ -3.2,  -3.2,  -3.2,  -3.2,  -3.2,  -3.2,  -3.2,  -3.2,  -3.2],\n",
       "       [ -1.5,  -1.5,  -1.5,  -1.5,  -1.5,  -1.5,  -1.5,  -1.5,  -1.5],\n",
       "       [  0.2,   0.2,   0.2,   0.2,   0.2,   0.2,   0.2,   0.2,   0.2],\n",
       "       [  1.9,   1.9,   1.9,   1.9,   1.9,   1.9,   1.9,   1.9,   1.9],\n",
       "       [  3.6,   3.6,   3.6,   3.6,   3.6,   3.6,   3.6,   3.6,   3.6]])"
      ]
     },
     "execution_count": 45,
     "metadata": {},
     "output_type": "execute_result"
    }
   ],
   "source": [
    "y"
   ]
  },
  {
   "cell_type": "code",
   "execution_count": 22,
   "metadata": {},
   "outputs": [
    {
     "data": {
      "text/plain": [
       "array([[ -1.29672165,   1.44301669,  -0.97621883,   4.61913224,\n",
       "         -0.70683468, -14.74978077,  -0.44565079,  -3.57545834,\n",
       "         -0.1548941 ],\n",
       "       [  1.44301669,   4.18275503,   1.76351951,   7.35887058,\n",
       "          2.03290366, -12.01004243,   2.29408755,  -0.83572   ,\n",
       "          2.58484424],\n",
       "       [ -0.97621883,   1.76351951,  -0.65571601,   4.93963506,\n",
       "         -0.38633186, -14.42927795,  -0.12514797,  -3.25495552,\n",
       "          0.16560872],\n",
       "       [  4.61913224,   7.35887058,   4.93963506,  10.53498613,\n",
       "          5.20901921,  -8.83392688,   5.4702031 ,   2.34039555,\n",
       "          5.7609598 ],\n",
       "       [ -0.70683468,   2.03290366,  -0.38633186,   5.20901921,\n",
       "         -0.11694771, -14.1598938 ,   0.14423618,  -2.98557137,\n",
       "          0.43499288],\n",
       "       [-14.74978077, -12.01004243, -14.42927795,  -8.83392688,\n",
       "        -14.1598938 , -28.20283989, -13.89870991, -17.02851746,\n",
       "        -13.60795322],\n",
       "       [ -0.44565079,   2.29408755,  -0.12514797,   5.4702031 ,\n",
       "          0.14423618, -13.89870991,   0.40542007,  -2.72438748,\n",
       "          0.69617677],\n",
       "       [ -3.57545834,  -0.83572   ,  -3.25495552,   2.34039555,\n",
       "         -2.98557137, -17.02851746,  -2.72438748,  -5.85419503,\n",
       "         -2.43363078],\n",
       "       [ -0.1548941 ,   2.58484424,   0.16560872,   5.7609598 ,\n",
       "          0.43499288, -13.60795322,   0.69617677,  -2.43363078,\n",
       "          0.98693346]])"
      ]
     },
     "execution_count": 22,
     "metadata": {},
     "output_type": "execute_result"
    }
   ],
   "source": [
    "z=(np.tan(x)+np.tan(y))\n",
    "z"
   ]
  },
  {
   "cell_type": "code",
   "execution_count": 37,
   "metadata": {},
   "outputs": [
    {
     "data": {
      "text/plain": [
       "<matplotlib.image.AxesImage at 0x9f8f0b8>"
      ]
     },
     "execution_count": 37,
     "metadata": {},
     "output_type": "execute_result"
    },
    {
     "data": {
      "image/png": "[encoded data removed]",
      "text/plain": [
       "<Figure size 432x288 with 1 Axes>"
      ]
     },
     "metadata": {
      "needs_background": "light"
     },
     "output_type": "display_data"
    }
   ],
   "source": [
    "#USE imshow FUNCTION FROM pyplot lib to show the plot\n",
    "plt.imshow(z)\n"
   ]
  },
  {
   "cell_type": "code",
   "execution_count": 39,
   "metadata": {},
   "outputs": [
    {
     "data": {
      "text/plain": [
       "Text(0.5,1,'plot for tan(x)+tan(y)')"
      ]
     },
     "execution_count": 39,
     "metadata": {},
     "output_type": "execute_result"
    },
    {
     "data": {
      "image/png": "[encoded data removed]",
      "text/plain": [
       "<Figure size 432x288 with 2 Axes>"
      ]
     },
     "metadata": {
      "needs_background": "light"
     },
     "output_type": "display_data"
    }
   ],
   "source": [
    "plt.imshow(z)\n",
    "plt.colorbar()\n",
    "plt.title('plot for tan(x)+tan(y)')"
   ]
  },
  {
   "cell_type": "code",
   "execution_count": 49,
   "metadata": {},
   "outputs": [
    {
     "data": {
      "text/plain": [
       "array([1, 2, 3, 4])"
      ]
     },
     "execution_count": 49,
     "metadata": {},
     "output_type": "execute_result"
    }
   ],
   "source": [
    "a1=np.array([1,2,3,4])\n",
    "a2=np.array([10,12,14,16])\n",
    "a1"
   ]
  },
  {
   "cell_type": "code",
   "execution_count": 50,
   "metadata": {},
   "outputs": [
    {
     "data": {
      "text/plain": [
       "array([10, 12, 14, 16])"
      ]
     },
     "execution_count": 50,
     "metadata": {},
     "output_type": "execute_result"
    }
   ],
   "source": [
    "a2"
   ]
  },
  {
   "cell_type": "code",
   "execution_count": 51,
   "metadata": {},
   "outputs": [],
   "source": [
    "#chose val_a1 is conition is ture otherwise val_a2 \n",
    "condition=np.array([True,False,False,True])"
   ]
  },
  {
   "cell_type": "code",
   "execution_count": 53,
   "metadata": {},
   "outputs": [
    {
     "data": {
      "text/plain": [
       "array([ True, False, False,  True])"
      ]
     },
     "execution_count": 53,
     "metadata": {},
     "output_type": "execute_result"
    }
   ],
   "source": [
    "condition"
   ]
  },
  {
   "cell_type": "code",
   "execution_count": 55,
   "metadata": {},
   "outputs": [],
   "source": [
    "#val_a1 if cond is met else val_a2 and use zip to input multiple arrays\n",
    "ans=[(val_a1 if cond else val_a2) for val_a1,val_a2,cond in zip(a1,a2,condition)]"
   ]
  },
  {
   "cell_type": "code",
   "execution_count": 56,
   "metadata": {},
   "outputs": [
    {
     "data": {
      "text/plain": [
       "[1, 12, 14, 4]"
      ]
     },
     "execution_count": 56,
     "metadata": {},
     "output_type": "execute_result"
    }
   ],
   "source": [
    "ans"
   ]
  },
  {
   "cell_type": "code",
   "execution_count": 59,
   "metadata": {},
   "outputs": [],
   "source": [
    "# np.where is short form of [(val_a1 if cond else val_a2) for val_a1,val_a2,cond in zip(a1,a2,condition)]\n",
    "ans2=np.where(condition,a1,a2)"
   ]
  },
  {
   "cell_type": "code",
   "execution_count": 60,
   "metadata": {},
   "outputs": [
    {
     "data": {
      "text/plain": [
       "array([ 1, 12, 14,  4])"
      ]
     },
     "execution_count": 60,
     "metadata": {},
     "output_type": "execute_result"
    }
   ],
   "source": [
    "ans2"
   ]
  },
  {
   "cell_type": "code",
   "execution_count": 64,
   "metadata": {},
   "outputs": [
    {
     "data": {
      "text/plain": [
       "array([[-1.27221289,  1.40221668,  0.10911657,  0.49735956,  1.37617164],\n",
       "       [ 0.16077491,  1.11104331, -0.22320019,  0.76041906, -0.10492533],\n",
       "       [-1.09822842, -0.43542212, -0.44110911,  0.0016023 ,  0.99377569],\n",
       "       [-0.37065057,  0.27969308,  0.45975648,  0.11461456,  0.38087637],\n",
       "       [ 0.40985401,  1.20217499, -0.24652786,  1.50239199, -1.01699212]])"
      ]
     },
     "execution_count": 64,
     "metadata": {},
     "output_type": "execute_result"
    }
   ],
   "source": [
    "from numpy.random import randn\n",
    "ans3=randn(5,5)\n",
    "ans3"
   ]
  },
  {
   "cell_type": "code",
   "execution_count": 68,
   "metadata": {},
   "outputs": [
    {
     "data": {
      "text/plain": [
       "array([[0, 1, 1, 1, 1],\n",
       "       [1, 1, 0, 1, 0],\n",
       "       [0, 0, 0, 1, 1],\n",
       "       [0, 1, 1, 1, 1],\n",
       "       [1, 1, 0, 1, 0]])"
      ]
     },
     "execution_count": 68,
     "metadata": {},
     "output_type": "execute_result"
    }
   ],
   "source": [
    "arr=np.where(ans3>0,1,0)\n",
    "arr"
   ]
  },
  {
   "cell_type": "code",
   "execution_count": 69,
   "metadata": {},
   "outputs": [
    {
     "data": {
      "text/plain": [
       "16"
      ]
     },
     "execution_count": 69,
     "metadata": {},
     "output_type": "execute_result"
    }
   ],
   "source": [
    "arr.sum()"
   ]
  },
  {
   "cell_type": "code",
   "execution_count": 70,
   "metadata": {},
   "outputs": [
    {
     "data": {
      "text/plain": [
       "array([4, 3, 2, 4, 3])"
      ]
     },
     "execution_count": 70,
     "metadata": {},
     "output_type": "execute_result"
    }
   ],
   "source": [
    "arr.sum(1)"
   ]
  },
  {
   "cell_type": "code",
   "execution_count": 73,
   "metadata": {},
   "outputs": [
    {
     "data": {
      "text/plain": [
       "array([2, 4, 2, 5, 3])"
      ]
     },
     "execution_count": 73,
     "metadata": {},
     "output_type": "execute_result"
    }
   ],
   "source": [
    "arr.sum(0)"
   ]
  },
  {
   "cell_type": "code",
   "execution_count": 77,
   "metadata": {},
   "outputs": [
    {
     "data": {
      "text/plain": [
       "array([0.8, 0.6, 0.4, 0.8, 0.6])"
      ]
     },
     "execution_count": 77,
     "metadata": {},
     "output_type": "execute_result"
    }
   ],
   "source": [
    "arr.mean(1)"
   ]
  },
  {
   "cell_type": "code",
   "execution_count": 78,
   "metadata": {},
   "outputs": [
    {
     "data": {
      "text/plain": [
       "0.64"
      ]
     },
     "execution_count": 78,
     "metadata": {},
     "output_type": "execute_result"
    }
   ],
   "source": [
    "arr.mean()"
   ]
  },
  {
   "cell_type": "code",
   "execution_count": 76,
   "metadata": {},
   "outputs": [
    {
     "data": {
      "text/plain": [
       "0.48000000000000004"
      ]
     },
     "execution_count": 76,
     "metadata": {},
     "output_type": "execute_result"
    }
   ],
   "source": [
    "arr.std()"
   ]
  },
  {
   "cell_type": "code",
   "execution_count": 81,
   "metadata": {},
   "outputs": [
    {
     "data": {
      "text/plain": [
       "0.23040000000000002"
      ]
     },
     "execution_count": 81,
     "metadata": {},
     "output_type": "execute_result"
    }
   ],
   "source": [
    "arr.var()"
   ]
  },
  {
   "cell_type": "code",
   "execution_count": 86,
   "metadata": {},
   "outputs": [
    {
     "data": {
      "text/plain": [
       "array([ True, False,  True])"
      ]
     },
     "execution_count": 86,
     "metadata": {},
     "output_type": "execute_result"
    }
   ],
   "source": [
    "bool_arr=np.array([True,False,True])\n",
    "bool_arr"
   ]
  },
  {
   "cell_type": "code",
   "execution_count": 87,
   "metadata": {},
   "outputs": [
    {
     "data": {
      "text/plain": [
       "True"
      ]
     },
     "execution_count": 87,
     "metadata": {},
     "output_type": "execute_result"
    }
   ],
   "source": [
    "bool_arr.any()"
   ]
  },
  {
   "cell_type": "code",
   "execution_count": 88,
   "metadata": {},
   "outputs": [
    {
     "data": {
      "text/plain": [
       "False"
      ]
     },
     "execution_count": 88,
     "metadata": {},
     "output_type": "execute_result"
    }
   ],
   "source": [
    "bool_arr.all()"
   ]
  },
  {
   "cell_type": "code",
   "execution_count": 90,
   "metadata": {},
   "outputs": [
    {
     "data": {
      "text/plain": [
       "array([ True,  True,  True])"
      ]
     },
     "execution_count": 90,
     "metadata": {},
     "output_type": "execute_result"
    }
   ],
   "source": [
    "bool_arr[1]=True\n",
    "bool_arr"
   ]
  },
  {
   "cell_type": "code",
   "execution_count": 91,
   "metadata": {},
   "outputs": [
    {
     "data": {
      "text/plain": [
       "True"
      ]
     },
     "execution_count": 91,
     "metadata": {},
     "output_type": "execute_result"
    }
   ],
   "source": [
    "bool_arr.all()"
   ]
  },
  {
   "cell_type": "code",
   "execution_count": 92,
   "metadata": {},
   "outputs": [
    {
     "data": {
      "text/plain": [
       "array([[0, 1, 1, 1, 1],\n",
       "       [1, 1, 0, 1, 0],\n",
       "       [0, 0, 0, 1, 1],\n",
       "       [0, 1, 1, 1, 1],\n",
       "       [1, 1, 0, 1, 0]])"
      ]
     },
     "execution_count": 92,
     "metadata": {},
     "output_type": "execute_result"
    }
   ],
   "source": [
    "arr"
   ]
  },
  {
   "cell_type": "code",
   "execution_count": 94,
   "metadata": {},
   "outputs": [
    {
     "data": {
      "text/plain": [
       "array([[0, 1, 1, 1, 1],\n",
       "       [0, 0, 1, 1, 1],\n",
       "       [0, 0, 0, 1, 1],\n",
       "       [0, 1, 1, 1, 1],\n",
       "       [0, 0, 1, 1, 1]])"
      ]
     },
     "execution_count": 94,
     "metadata": {},
     "output_type": "execute_result"
    }
   ],
   "source": [
    "arr.sort()\n",
    "arr"
   ]
  },
  {
   "cell_type": "code",
   "execution_count": 98,
   "metadata": {},
   "outputs": [
    {
     "data": {
      "text/plain": [
       "array([-0.04920524, -0.18744954, -0.29021795,  1.32663035,  0.18552235])"
      ]
     },
     "execution_count": 98,
     "metadata": {},
     "output_type": "execute_result"
    }
   ],
   "source": [
    "arr1=randn(5)\n",
    "arr1"
   ]
  },
  {
   "cell_type": "code",
   "execution_count": 100,
   "metadata": {},
   "outputs": [
    {
     "data": {
      "text/plain": [
       "array([-0.29021795, -0.18744954, -0.04920524,  0.18552235,  1.32663035])"
      ]
     },
     "execution_count": 100,
     "metadata": {},
     "output_type": "execute_result"
    }
   ],
   "source": [
    "arr1.sort()\n",
    "arr1"
   ]
  },
  {
   "cell_type": "code",
   "execution_count": 101,
   "metadata": {},
   "outputs": [
    {
     "data": {
      "text/plain": [
       "array([0, 1])"
      ]
     },
     "execution_count": 101,
     "metadata": {},
     "output_type": "execute_result"
    }
   ],
   "source": [
    "np.unique(arr)"
   ]
  },
  {
   "cell_type": "code",
   "execution_count": 102,
   "metadata": {},
   "outputs": [
    {
     "data": {
      "text/plain": [
       "array(['India', 'Russia', 'USA', 'Israel', 'India', 'Russia', 'Saudi'],\n",
       "      dtype='|S6')"
      ]
     },
     "execution_count": 102,
     "metadata": {},
     "output_type": "execute_result"
    }
   ],
   "source": [
    "cont=np.array(['India','Russia','USA','Israel','India','Russia','Saudi'])\n",
    "cont"
   ]
  },
  {
   "cell_type": "code",
   "execution_count": 104,
   "metadata": {},
   "outputs": [
    {
     "data": {
      "text/plain": [
       "array(['India', 'Israel', 'Russia', 'Saudi', 'USA'], dtype='|S6')"
      ]
     },
     "execution_count": 104,
     "metadata": {},
     "output_type": "execute_result"
    }
   ],
   "source": [
    "np.unique(cont)"
   ]
  },
  {
   "cell_type": "code",
   "execution_count": 108,
   "metadata": {},
   "outputs": [
    {
     "data": {
      "text/plain": [
       "array([ True,  True,  True])"
      ]
     },
     "execution_count": 108,
     "metadata": {},
     "output_type": "execute_result"
    }
   ],
   "source": [
    "np.in1d(['India','Russia','USA'],cont)"
   ]
  },
  {
   "cell_type": "markdown",
   "metadata": {},
   "source": [
    "## Array input and output - how to save and open array"
   ]
  },
  {
   "cell_type": "code",
   "execution_count": null,
   "metadata": {},
   "outputs": [],
   "source": []
  },
  {
   "cell_type": "code",
   "execution_count": null,
   "metadata": {},
   "outputs": [],
   "source": []
  }
 ],
 "metadata": {
  "kernelspec": {
   "display_name": "Python 2",
   "language": "python",
   "name": "python2"
  },
  "language_info": {
   "codemirror_mode": {
    "name": "ipython",
    "version": 2
   },
   "file_extension": ".py",
   "mimetype": "text/x-python",
   "name": "python",
   "nbconvert_exporter": "python",
   "pygments_lexer": "ipython2",
   "version": "2.7.16"
  }
 },
 "nbformat": 4,
 "nbformat_minor": 2
}
