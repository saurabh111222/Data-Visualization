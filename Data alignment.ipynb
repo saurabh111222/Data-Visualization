{
 "cells": [
  {
   "cell_type": "code",
   "execution_count": 3,
   "metadata": {},
   "outputs": [],
   "source": [
    "import pandas as pd\n",
    "from pandas import Series, DataFrame\n",
    "from numpy.random import randn\n",
    "import numpy as np"
   ]
  },
  {
   "cell_type": "code",
   "execution_count": 4,
   "metadata": {},
   "outputs": [
    {
     "data": {
      "text/plain": [
       "array([-0.40014348, -0.18513956, -1.74234309, -0.55142999, -0.13488367,\n",
       "        0.43679791, -0.57377512,  1.14414205,  0.3505486 ])"
      ]
     },
     "execution_count": 4,
     "metadata": {},
     "output_type": "execute_result"
    }
   ],
   "source": [
    "ranger=randn(9)\n",
    "ranger"
   ]
  },
  {
   "cell_type": "code",
   "execution_count": 5,
   "metadata": {},
   "outputs": [
    {
     "data": {
      "text/html": [
       "<div>\n",
       "<style scoped>\n",
       "    .dataframe tbody tr th:only-of-type {\n",
       "        vertical-align: middle;\n",
       "    }\n",
       "\n",
       "    .dataframe tbody tr th {\n",
       "        vertical-align: top;\n",
       "    }\n",
       "\n",
       "    .dataframe thead th {\n",
       "        text-align: right;\n",
       "    }\n",
       "</style>\n",
       "<table border=\"1\" class=\"dataframe\">\n",
       "  <thead>\n",
       "    <tr style=\"text-align: right;\">\n",
       "      <th></th>\n",
       "      <th>A</th>\n",
       "      <th>B</th>\n",
       "      <th>C</th>\n",
       "    </tr>\n",
       "  </thead>\n",
       "  <tbody>\n",
       "    <tr>\n",
       "      <th>sam</th>\n",
       "      <td>-0.400143</td>\n",
       "      <td>-0.185140</td>\n",
       "      <td>-1.742343</td>\n",
       "    </tr>\n",
       "    <tr>\n",
       "      <th>jam</th>\n",
       "      <td>-0.551430</td>\n",
       "      <td>-0.134884</td>\n",
       "      <td>0.436798</td>\n",
       "    </tr>\n",
       "    <tr>\n",
       "      <th>fam</th>\n",
       "      <td>-0.573775</td>\n",
       "      <td>1.144142</td>\n",
       "      <td>0.350549</td>\n",
       "    </tr>\n",
       "  </tbody>\n",
       "</table>\n",
       "</div>"
      ],
      "text/plain": [
       "            A         B         C\n",
       "sam -0.400143 -0.185140 -1.742343\n",
       "jam -0.551430 -0.134884  0.436798\n",
       "fam -0.573775  1.144142  0.350549"
      ]
     },
     "execution_count": 5,
     "metadata": {},
     "output_type": "execute_result"
    }
   ],
   "source": [
    "dframe=DataFrame(ranger.reshape(3,3),columns=list('ABC'),index=['sam','jam','fam'])\n",
    "dframe"
   ]
  },
  {
   "cell_type": "code",
   "execution_count": 6,
   "metadata": {},
   "outputs": [
    {
     "data": {
      "text/html": [
       "<div>\n",
       "<style scoped>\n",
       "    .dataframe tbody tr th:only-of-type {\n",
       "        vertical-align: middle;\n",
       "    }\n",
       "\n",
       "    .dataframe tbody tr th {\n",
       "        vertical-align: top;\n",
       "    }\n",
       "\n",
       "    .dataframe thead th {\n",
       "        text-align: right;\n",
       "    }\n",
       "</style>\n",
       "<table border=\"1\" class=\"dataframe\">\n",
       "  <thead>\n",
       "    <tr style=\"text-align: right;\">\n",
       "      <th></th>\n",
       "      <th>A</th>\n",
       "      <th>C</th>\n",
       "      <th>D</th>\n",
       "      <th>E</th>\n",
       "    </tr>\n",
       "  </thead>\n",
       "  <tbody>\n",
       "    <tr>\n",
       "      <th>sam</th>\n",
       "      <td>0.368292</td>\n",
       "      <td>-0.327836</td>\n",
       "      <td>0.360516</td>\n",
       "      <td>0.330783</td>\n",
       "    </tr>\n",
       "    <tr>\n",
       "      <th>fam</th>\n",
       "      <td>0.406605</td>\n",
       "      <td>0.328964</td>\n",
       "      <td>-1.819251</td>\n",
       "      <td>0.426957</td>\n",
       "    </tr>\n",
       "    <tr>\n",
       "      <th>gam</th>\n",
       "      <td>0.825875</td>\n",
       "      <td>-0.000838</td>\n",
       "      <td>-0.979563</td>\n",
       "      <td>-1.472627</td>\n",
       "    </tr>\n",
       "    <tr>\n",
       "      <th>tam</th>\n",
       "      <td>1.889656</td>\n",
       "      <td>-1.004656</td>\n",
       "      <td>0.849892</td>\n",
       "      <td>-0.092940</td>\n",
       "    </tr>\n",
       "  </tbody>\n",
       "</table>\n",
       "</div>"
      ],
      "text/plain": [
       "            A         C         D         E\n",
       "sam  0.368292 -0.327836  0.360516  0.330783\n",
       "fam  0.406605  0.328964 -1.819251  0.426957\n",
       "gam  0.825875 -0.000838 -0.979563 -1.472627\n",
       "tam  1.889656 -1.004656  0.849892 -0.092940"
      ]
     },
     "execution_count": 6,
     "metadata": {},
     "output_type": "execute_result"
    }
   ],
   "source": [
    "dframe1=DataFrame(randn(16).reshape(4,4),columns=list('ACDE'),index=['sam','fam','gam','tam'])\n",
    "dframe1"
   ]
  },
  {
   "cell_type": "code",
   "execution_count": 7,
   "metadata": {},
   "outputs": [
    {
     "data": {
      "text/html": [
       "<div>\n",
       "<style scoped>\n",
       "    .dataframe tbody tr th:only-of-type {\n",
       "        vertical-align: middle;\n",
       "    }\n",
       "\n",
       "    .dataframe tbody tr th {\n",
       "        vertical-align: top;\n",
       "    }\n",
       "\n",
       "    .dataframe thead th {\n",
       "        text-align: right;\n",
       "    }\n",
       "</style>\n",
       "<table border=\"1\" class=\"dataframe\">\n",
       "  <thead>\n",
       "    <tr style=\"text-align: right;\">\n",
       "      <th></th>\n",
       "      <th>A</th>\n",
       "      <th>B</th>\n",
       "      <th>C</th>\n",
       "      <th>D</th>\n",
       "      <th>E</th>\n",
       "    </tr>\n",
       "  </thead>\n",
       "  <tbody>\n",
       "    <tr>\n",
       "      <th>fam</th>\n",
       "      <td>-0.167170</td>\n",
       "      <td>NaN</td>\n",
       "      <td>0.679512</td>\n",
       "      <td>NaN</td>\n",
       "      <td>NaN</td>\n",
       "    </tr>\n",
       "    <tr>\n",
       "      <th>gam</th>\n",
       "      <td>NaN</td>\n",
       "      <td>NaN</td>\n",
       "      <td>NaN</td>\n",
       "      <td>NaN</td>\n",
       "      <td>NaN</td>\n",
       "    </tr>\n",
       "    <tr>\n",
       "      <th>jam</th>\n",
       "      <td>NaN</td>\n",
       "      <td>NaN</td>\n",
       "      <td>NaN</td>\n",
       "      <td>NaN</td>\n",
       "      <td>NaN</td>\n",
       "    </tr>\n",
       "    <tr>\n",
       "      <th>sam</th>\n",
       "      <td>-0.031851</td>\n",
       "      <td>NaN</td>\n",
       "      <td>-2.070179</td>\n",
       "      <td>NaN</td>\n",
       "      <td>NaN</td>\n",
       "    </tr>\n",
       "    <tr>\n",
       "      <th>tam</th>\n",
       "      <td>NaN</td>\n",
       "      <td>NaN</td>\n",
       "      <td>NaN</td>\n",
       "      <td>NaN</td>\n",
       "      <td>NaN</td>\n",
       "    </tr>\n",
       "  </tbody>\n",
       "</table>\n",
       "</div>"
      ],
      "text/plain": [
       "            A   B         C   D   E\n",
       "fam -0.167170 NaN  0.679512 NaN NaN\n",
       "gam       NaN NaN       NaN NaN NaN\n",
       "jam       NaN NaN       NaN NaN NaN\n",
       "sam -0.031851 NaN -2.070179 NaN NaN\n",
       "tam       NaN NaN       NaN NaN NaN"
      ]
     },
     "execution_count": 7,
     "metadata": {},
     "output_type": "execute_result"
    }
   ],
   "source": [
    "#here we loose the data\n",
    "dframe+dframe1"
   ]
  },
  {
   "cell_type": "code",
   "execution_count": 8,
   "metadata": {},
   "outputs": [
    {
     "data": {
      "text/html": [
       "<div>\n",
       "<style scoped>\n",
       "    .dataframe tbody tr th:only-of-type {\n",
       "        vertical-align: middle;\n",
       "    }\n",
       "\n",
       "    .dataframe tbody tr th {\n",
       "        vertical-align: top;\n",
       "    }\n",
       "\n",
       "    .dataframe thead th {\n",
       "        text-align: right;\n",
       "    }\n",
       "</style>\n",
       "<table border=\"1\" class=\"dataframe\">\n",
       "  <thead>\n",
       "    <tr style=\"text-align: right;\">\n",
       "      <th></th>\n",
       "      <th>A</th>\n",
       "      <th>B</th>\n",
       "      <th>C</th>\n",
       "      <th>D</th>\n",
       "      <th>E</th>\n",
       "    </tr>\n",
       "  </thead>\n",
       "  <tbody>\n",
       "    <tr>\n",
       "      <th>fam</th>\n",
       "      <td>-0.167170</td>\n",
       "      <td>1.144142</td>\n",
       "      <td>0.679512</td>\n",
       "      <td>-1.819251</td>\n",
       "      <td>0.426957</td>\n",
       "    </tr>\n",
       "    <tr>\n",
       "      <th>gam</th>\n",
       "      <td>0.825875</td>\n",
       "      <td>NaN</td>\n",
       "      <td>-0.000838</td>\n",
       "      <td>-0.979563</td>\n",
       "      <td>-1.472627</td>\n",
       "    </tr>\n",
       "    <tr>\n",
       "      <th>jam</th>\n",
       "      <td>-0.551430</td>\n",
       "      <td>-0.134884</td>\n",
       "      <td>0.436798</td>\n",
       "      <td>NaN</td>\n",
       "      <td>NaN</td>\n",
       "    </tr>\n",
       "    <tr>\n",
       "      <th>sam</th>\n",
       "      <td>-0.031851</td>\n",
       "      <td>-0.185140</td>\n",
       "      <td>-2.070179</td>\n",
       "      <td>0.360516</td>\n",
       "      <td>0.330783</td>\n",
       "    </tr>\n",
       "    <tr>\n",
       "      <th>tam</th>\n",
       "      <td>1.889656</td>\n",
       "      <td>NaN</td>\n",
       "      <td>-1.004656</td>\n",
       "      <td>0.849892</td>\n",
       "      <td>-0.092940</td>\n",
       "    </tr>\n",
       "  </tbody>\n",
       "</table>\n",
       "</div>"
      ],
      "text/plain": [
       "            A         B         C         D         E\n",
       "fam -0.167170  1.144142  0.679512 -1.819251  0.426957\n",
       "gam  0.825875       NaN -0.000838 -0.979563 -1.472627\n",
       "jam -0.551430 -0.134884  0.436798       NaN       NaN\n",
       "sam -0.031851 -0.185140 -2.070179  0.360516  0.330783\n",
       "tam  1.889656       NaN -1.004656  0.849892 -0.092940"
      ]
     },
     "execution_count": 8,
     "metadata": {},
     "output_type": "execute_result"
    }
   ],
   "source": [
    "#simple addition equalize uncommon values to zero (data loose) so to avoid this following method can be used \n",
    "#this method will useful if you don't want to loose data just because of uncommon things\n",
    "dframe.add(dframe1,fill_value=0)"
   ]
  },
  {
   "cell_type": "code",
   "execution_count": 9,
   "metadata": {},
   "outputs": [
    {
     "data": {
      "text/plain": [
       "A   -0.551430\n",
       "B   -0.134884\n",
       "C    0.436798\n",
       "Name: jam, dtype: float64"
      ]
     },
     "execution_count": 9,
     "metadata": {},
     "output_type": "execute_result"
    }
   ],
   "source": [
    "ser=dframe.iloc[1]\n",
    "ser"
   ]
  },
  {
   "cell_type": "code",
   "execution_count": 10,
   "metadata": {},
   "outputs": [
    {
     "data": {
      "text/html": [
       "<div>\n",
       "<style scoped>\n",
       "    .dataframe tbody tr th:only-of-type {\n",
       "        vertical-align: middle;\n",
       "    }\n",
       "\n",
       "    .dataframe tbody tr th {\n",
       "        vertical-align: top;\n",
       "    }\n",
       "\n",
       "    .dataframe thead th {\n",
       "        text-align: right;\n",
       "    }\n",
       "</style>\n",
       "<table border=\"1\" class=\"dataframe\">\n",
       "  <thead>\n",
       "    <tr style=\"text-align: right;\">\n",
       "      <th></th>\n",
       "      <th>A</th>\n",
       "      <th>B</th>\n",
       "      <th>C</th>\n",
       "    </tr>\n",
       "  </thead>\n",
       "  <tbody>\n",
       "    <tr>\n",
       "      <th>sam</th>\n",
       "      <td>-0.400143</td>\n",
       "      <td>-0.185140</td>\n",
       "      <td>-1.742343</td>\n",
       "    </tr>\n",
       "    <tr>\n",
       "      <th>jam</th>\n",
       "      <td>-0.551430</td>\n",
       "      <td>-0.134884</td>\n",
       "      <td>0.436798</td>\n",
       "    </tr>\n",
       "    <tr>\n",
       "      <th>fam</th>\n",
       "      <td>-0.573775</td>\n",
       "      <td>1.144142</td>\n",
       "      <td>0.350549</td>\n",
       "    </tr>\n",
       "  </tbody>\n",
       "</table>\n",
       "</div>"
      ],
      "text/plain": [
       "            A         B         C\n",
       "sam -0.400143 -0.185140 -1.742343\n",
       "jam -0.551430 -0.134884  0.436798\n",
       "fam -0.573775  1.144142  0.350549"
      ]
     },
     "execution_count": 10,
     "metadata": {},
     "output_type": "execute_result"
    }
   ],
   "source": [
    "dframe"
   ]
  },
  {
   "cell_type": "code",
   "execution_count": 11,
   "metadata": {},
   "outputs": [
    {
     "data": {
      "text/html": [
       "<div>\n",
       "<style scoped>\n",
       "    .dataframe tbody tr th:only-of-type {\n",
       "        vertical-align: middle;\n",
       "    }\n",
       "\n",
       "    .dataframe tbody tr th {\n",
       "        vertical-align: top;\n",
       "    }\n",
       "\n",
       "    .dataframe thead th {\n",
       "        text-align: right;\n",
       "    }\n",
       "</style>\n",
       "<table border=\"1\" class=\"dataframe\">\n",
       "  <thead>\n",
       "    <tr style=\"text-align: right;\">\n",
       "      <th></th>\n",
       "      <th>A</th>\n",
       "      <th>B</th>\n",
       "      <th>C</th>\n",
       "    </tr>\n",
       "  </thead>\n",
       "  <tbody>\n",
       "    <tr>\n",
       "      <th>sam</th>\n",
       "      <td>0.151287</td>\n",
       "      <td>-0.050256</td>\n",
       "      <td>-2.179141</td>\n",
       "    </tr>\n",
       "    <tr>\n",
       "      <th>jam</th>\n",
       "      <td>0.000000</td>\n",
       "      <td>0.000000</td>\n",
       "      <td>0.000000</td>\n",
       "    </tr>\n",
       "    <tr>\n",
       "      <th>fam</th>\n",
       "      <td>-0.022345</td>\n",
       "      <td>1.279026</td>\n",
       "      <td>-0.086249</td>\n",
       "    </tr>\n",
       "  </tbody>\n",
       "</table>\n",
       "</div>"
      ],
      "text/plain": [
       "            A         B         C\n",
       "sam  0.151287 -0.050256 -2.179141\n",
       "jam  0.000000  0.000000  0.000000\n",
       "fam -0.022345  1.279026 -0.086249"
      ]
     },
     "execution_count": 11,
     "metadata": {},
     "output_type": "execute_result"
    }
   ],
   "source": [
    "dframe-ser"
   ]
  },
  {
   "cell_type": "markdown",
   "metadata": {},
   "source": [
    "## Rank and Sort\n",
    "#### .sort_index()\n",
    "#### .sort_values()"
   ]
  },
  {
   "cell_type": "code",
   "execution_count": 12,
   "metadata": {},
   "outputs": [
    {
     "data": {
      "text/plain": [
       "2    1.232620\n",
       "0   -0.627978\n",
       "1   -0.733313\n",
       "4   -2.352640\n",
       "3    2.737191\n",
       "dtype: float64"
      ]
     },
     "execution_count": 12,
     "metadata": {},
     "output_type": "execute_result"
    }
   ],
   "source": [
    "sr=Series(randn(5),index=[2,0,1,4,3])\n",
    "sr"
   ]
  },
  {
   "cell_type": "code",
   "execution_count": 13,
   "metadata": {},
   "outputs": [
    {
     "data": {
      "text/plain": [
       "0   -0.627978\n",
       "1   -0.733313\n",
       "2    1.232620\n",
       "3    2.737191\n",
       "4   -2.352640\n",
       "dtype: float64"
      ]
     },
     "execution_count": 13,
     "metadata": {},
     "output_type": "execute_result"
    }
   ],
   "source": [
    "sr.sort_index()"
   ]
  },
  {
   "cell_type": "code",
   "execution_count": 14,
   "metadata": {},
   "outputs": [
    {
     "data": {
      "text/plain": [
       "2    4.0\n",
       "0    3.0\n",
       "1    2.0\n",
       "4    1.0\n",
       "3    5.0\n",
       "dtype: float64"
      ]
     },
     "execution_count": 14,
     "metadata": {},
     "output_type": "execute_result"
    }
   ],
   "source": [
    "sr.rank()"
   ]
  },
  {
   "cell_type": "code",
   "execution_count": 17,
   "metadata": {},
   "outputs": [
    {
     "data": {
      "text/plain": [
       "2    4.0\n",
       "0    3.0\n",
       "1    2.0\n",
       "4    1.0\n",
       "3    5.0\n",
       "dtype: float64"
      ]
     },
     "execution_count": 17,
     "metadata": {},
     "output_type": "execute_result"
    }
   ],
   "source": [
    "sr.sort_values()\n",
    "sr.rank()"
   ]
  },
  {
   "cell_type": "code",
   "execution_count": null,
   "metadata": {},
   "outputs": [],
   "source": []
  },
  {
   "cell_type": "code",
   "execution_count": null,
   "metadata": {},
   "outputs": [],
   "source": []
  }
 ],
 "metadata": {
  "kernelspec": {
   "display_name": "Python 2",
   "language": "python",
   "name": "python2"
  },
  "language_info": {
   "codemirror_mode": {
    "name": "ipython",
    "version": 2
   },
   "file_extension": ".py",
   "mimetype": "text/x-python",
   "name": "python",
   "nbconvert_exporter": "python",
   "pygments_lexer": "ipython2",
   "version": "2.7.16"
  }
 },
 "nbformat": 4,
 "nbformat_minor": 2
}
